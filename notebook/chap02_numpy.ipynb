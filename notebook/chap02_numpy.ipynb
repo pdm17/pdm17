{
  "cells": [
    {
      "cell_type": "markdown",
      "metadata": {
        "id": "view-in-github",
        "colab_type": "text"
      },
      "source": [
        "<a href=\"https://colab.research.google.com/github/pdm17/pdm17/blob/main/notebook/chap02_numpy.ipynb\" target=\"_parent\"><img src=\"https://colab.research.google.com/assets/colab-badge.svg\" alt=\"Open In Colab\"/></a>"
      ]
    },
    {
      "cell_type": "code",
      "execution_count": null,
      "metadata": {
        "id": "t5zHHdenXfI3"
      },
      "outputs": [],
      "source": [
        "import numpy as np"
      ]
    },
    {
      "cell_type": "code",
      "execution_count": null,
      "metadata": {
        "id": "8TkHCIX0XfI4"
      },
      "outputs": [],
      "source": [
        "a = np.array([1, 2, 3])"
      ]
    },
    {
      "cell_type": "code",
      "execution_count": null,
      "metadata": {
        "id": "JA8rK6DvXfI5"
      },
      "outputs": [],
      "source": [
        "a"
      ]
    },
    {
      "cell_type": "code",
      "execution_count": null,
      "metadata": {
        "id": "lITHCLGFXfI5"
      },
      "outputs": [],
      "source": [
        "a[0]"
      ]
    },
    {
      "cell_type": "code",
      "execution_count": null,
      "metadata": {
        "id": "PExzFjdYXfI6"
      },
      "outputs": [],
      "source": [
        "b = np.array([[1, 2, 3], [4, 5, 6], [7, 8, 9]])"
      ]
    },
    {
      "cell_type": "code",
      "execution_count": null,
      "metadata": {
        "id": "dxd8_Ae-XfI6"
      },
      "outputs": [],
      "source": [
        "b"
      ]
    },
    {
      "cell_type": "code",
      "execution_count": null,
      "metadata": {
        "id": "kJt-ccpMXfI6"
      },
      "outputs": [],
      "source": [
        " b[0][2]"
      ]
    },
    {
      "cell_type": "code",
      "execution_count": null,
      "metadata": {
        "id": "5_SGREgUXfI6"
      },
      "outputs": [],
      "source": [
        "a = np.array([[ 0, 1, 2],\n",
        " \t\t[ 3, 4, 5],\n",
        "\t\t[ 6, 7, 8]])"
      ]
    },
    {
      "cell_type": "code",
      "execution_count": null,
      "metadata": {
        "id": "8xsxhbveXfI6"
      },
      "outputs": [],
      "source": [
        "a.shape"
      ]
    },
    {
      "cell_type": "code",
      "execution_count": null,
      "metadata": {
        "id": "1Z8Yi5NKXfI7"
      },
      "outputs": [],
      "source": [
        "a.ndim"
      ]
    },
    {
      "cell_type": "code",
      "execution_count": null,
      "metadata": {
        "id": "zrXWy82wXfI7"
      },
      "outputs": [],
      "source": [
        "a.dtype"
      ]
    },
    {
      "cell_type": "code",
      "execution_count": null,
      "metadata": {
        "id": "leGbO1x1XfI7"
      },
      "outputs": [],
      "source": [
        "a.itemsize"
      ]
    },
    {
      "cell_type": "code",
      "execution_count": null,
      "metadata": {
        "id": "YqQuxbsVXfI7"
      },
      "outputs": [],
      "source": [
        "a.size"
      ]
    },
    {
      "cell_type": "code",
      "execution_count": null,
      "metadata": {
        "id": "6JDla_3-XfI8"
      },
      "outputs": [],
      "source": [
        "np.zeros( (3, 4) )\t"
      ]
    },
    {
      "cell_type": "code",
      "execution_count": null,
      "metadata": {
        "id": "Vl_1y0vOXfI8"
      },
      "outputs": [],
      "source": [
        "np.ones( (3, 4), dtype=np.int32 )"
      ]
    },
    {
      "cell_type": "code",
      "execution_count": null,
      "metadata": {
        "id": "Nk_hn1-UXfI8"
      },
      "outputs": [],
      "source": [
        "np.eye(3)"
      ]
    },
    {
      "cell_type": "code",
      "execution_count": null,
      "metadata": {
        "id": "O_WlwtT-XfI8"
      },
      "outputs": [],
      "source": [
        "x = np.ones(5, dtype=np.int64)"
      ]
    },
    {
      "cell_type": "code",
      "execution_count": null,
      "metadata": {
        "id": "xr21OWwJXfI8"
      },
      "outputs": [],
      "source": [
        "x"
      ]
    },
    {
      "cell_type": "code",
      "execution_count": null,
      "metadata": {
        "id": "M096aJ5CXfI9"
      },
      "outputs": [],
      "source": [
        "np.arange(5)"
      ]
    },
    {
      "cell_type": "code",
      "execution_count": null,
      "metadata": {
        "id": "Cp8QF9LgXfI9"
      },
      "outputs": [],
      "source": [
        "np.arange(1, 6)"
      ]
    },
    {
      "cell_type": "code",
      "execution_count": null,
      "metadata": {
        "id": "pESWK_t9XfI9"
      },
      "outputs": [],
      "source": [
        "np.arange(1, 10, 2)"
      ]
    },
    {
      "cell_type": "code",
      "execution_count": null,
      "metadata": {
        "id": "iWTVk4HDXfI9"
      },
      "outputs": [],
      "source": [
        "np.linspace(0, 10, 100)"
      ]
    },
    {
      "cell_type": "code",
      "execution_count": null,
      "metadata": {
        "id": "NTxkucuMXfI9"
      },
      "outputs": [],
      "source": [
        "arr = np.array([2, 1, 5, 3, 7, 4, 6, 8])"
      ]
    },
    {
      "cell_type": "code",
      "execution_count": null,
      "metadata": {
        "id": "ShzvWjQyXfI9"
      },
      "outputs": [],
      "source": [
        "np.sort(arr)"
      ]
    },
    {
      "cell_type": "code",
      "execution_count": null,
      "metadata": {
        "id": "NVNZmIY2XfI9"
      },
      "outputs": [],
      "source": [
        "x = np.array([[1, 2], [3, 4]])"
      ]
    },
    {
      "cell_type": "code",
      "execution_count": null,
      "metadata": {
        "id": "jBzcfIE9XfI-"
      },
      "outputs": [],
      "source": [
        "y = np.array([[5, 6], [7, 8]])"
      ]
    },
    {
      "cell_type": "code",
      "execution_count": null,
      "metadata": {
        "id": "1XEejDqkXfI-"
      },
      "outputs": [],
      "source": [
        "np.concatenate((x, y), axis=1)"
      ]
    },
    {
      "cell_type": "code",
      "execution_count": null,
      "metadata": {
        "id": "MEf6Tuf8XfI-"
      },
      "outputs": [],
      "source": [
        "np.vstack((x, y))"
      ]
    },
    {
      "cell_type": "code",
      "execution_count": null,
      "metadata": {
        "id": "0z_2PN9KXfI-"
      },
      "outputs": [],
      "source": [
        "np.hstack((x, y))"
      ]
    },
    {
      "cell_type": "code",
      "execution_count": null,
      "metadata": {
        "id": "hC76YFRhXfI-"
      },
      "outputs": [],
      "source": [
        "a = np.arange(12)"
      ]
    },
    {
      "cell_type": "code",
      "execution_count": null,
      "metadata": {
        "id": "qLbTqr3oXfI-"
      },
      "outputs": [],
      "source": [
        "a.shape"
      ]
    },
    {
      "cell_type": "code",
      "execution_count": null,
      "metadata": {
        "id": "sY9mdfmQXfI-"
      },
      "outputs": [],
      "source": [
        "a.reshape(3, 4)"
      ]
    },
    {
      "cell_type": "code",
      "execution_count": null,
      "metadata": {
        "id": "1SGaRKTVXfI_"
      },
      "outputs": [],
      "source": [
        "a.reshape(6, -1)"
      ]
    },
    {
      "cell_type": "code",
      "execution_count": null,
      "metadata": {
        "id": "spkcrhZEXfI_"
      },
      "outputs": [],
      "source": [
        "array = np.arange(30).reshape(-1, 10)"
      ]
    },
    {
      "cell_type": "code",
      "execution_count": null,
      "metadata": {
        "id": "XiPltWjRXfI_"
      },
      "outputs": [],
      "source": [
        "array "
      ]
    },
    {
      "cell_type": "code",
      "execution_count": null,
      "metadata": {
        "id": "0cNj7UH3XfI_"
      },
      "outputs": [],
      "source": [
        "arr1, arr2 = np.split(array, [3], axis=1)"
      ]
    },
    {
      "cell_type": "code",
      "execution_count": null,
      "metadata": {
        "id": "Zw27hd64XfI_"
      },
      "outputs": [],
      "source": [
        "arr1"
      ]
    },
    {
      "cell_type": "code",
      "execution_count": null,
      "metadata": {
        "id": "0rxwofXgXfI_"
      },
      "outputs": [],
      "source": [
        "arr2"
      ]
    },
    {
      "cell_type": "code",
      "execution_count": null,
      "metadata": {
        "id": "MHZwOyvoXfJA"
      },
      "outputs": [],
      "source": [
        "a = np.array([1, 2, 3, 4, 5, 6])\n"
      ]
    },
    {
      "cell_type": "code",
      "execution_count": null,
      "metadata": {
        "id": "YSHCM0EdXfJA"
      },
      "outputs": [],
      "source": [
        "a.shape"
      ]
    },
    {
      "cell_type": "code",
      "execution_count": null,
      "metadata": {
        "id": "323voHqVXfJA"
      },
      "outputs": [],
      "source": [
        "a1 = a[np.newaxis, :]"
      ]
    },
    {
      "cell_type": "code",
      "execution_count": null,
      "metadata": {
        "id": "0RZ24t7dXfJA"
      },
      "outputs": [],
      "source": [
        "a1"
      ]
    },
    {
      "cell_type": "code",
      "execution_count": null,
      "metadata": {
        "id": "VyLWUODiXfJA"
      },
      "outputs": [],
      "source": [
        "a1.shape"
      ]
    },
    {
      "cell_type": "code",
      "execution_count": null,
      "metadata": {
        "id": "fd9CHoYOXfJA"
      },
      "outputs": [],
      "source": [
        "a2 = a[:, np.newaxis]"
      ]
    },
    {
      "cell_type": "code",
      "execution_count": null,
      "metadata": {
        "id": "_pvQL5EvXfJA"
      },
      "outputs": [],
      "source": [
        "a2.shape"
      ]
    },
    {
      "cell_type": "code",
      "execution_count": null,
      "metadata": {
        "id": "tUapSmDVXfJB"
      },
      "outputs": [],
      "source": [
        "ages = np.array([18, 19, 25, 30, 28])"
      ]
    },
    {
      "cell_type": "code",
      "execution_count": null,
      "metadata": {
        "id": "F8tXYnZ-XfJB"
      },
      "outputs": [],
      "source": [
        "ages[1:3] "
      ]
    },
    {
      "cell_type": "code",
      "execution_count": null,
      "metadata": {
        "id": "mtfxKqVEXfJB"
      },
      "outputs": [],
      "source": [
        "ages[:2] "
      ]
    },
    {
      "cell_type": "code",
      "execution_count": null,
      "metadata": {
        "id": "1sYmJevlXfJB"
      },
      "outputs": [],
      "source": [
        "y = ages > 20"
      ]
    },
    {
      "cell_type": "code",
      "execution_count": null,
      "metadata": {
        "id": "b8agKDnLXfJB"
      },
      "outputs": [],
      "source": [
        "y"
      ]
    },
    {
      "cell_type": "code",
      "execution_count": null,
      "metadata": {
        "id": "JyEhlEqvXfJB"
      },
      "outputs": [],
      "source": [
        "ages[ ages > 20 ]"
      ]
    },
    {
      "cell_type": "code",
      "execution_count": null,
      "metadata": {
        "id": "gFzYwBdtXfJB"
      },
      "outputs": [],
      "source": [
        "a = np.array([[1, 2, 3], [4, 5, 6], [7, 8, 9]])"
      ]
    },
    {
      "cell_type": "code",
      "execution_count": null,
      "metadata": {
        "id": "v8UzhSUaXfJC"
      },
      "outputs": [],
      "source": [
        "a[0, 2]"
      ]
    },
    {
      "cell_type": "code",
      "execution_count": null,
      "metadata": {
        "id": "CPU-mwmWXfJC"
      },
      "outputs": [],
      "source": [
        "a[0, 0] = 12"
      ]
    },
    {
      "cell_type": "code",
      "execution_count": null,
      "metadata": {
        "id": "bIHdWs25XfJC"
      },
      "outputs": [],
      "source": [
        "a"
      ]
    },
    {
      "cell_type": "code",
      "execution_count": null,
      "metadata": {
        "id": "yiXyYoflXfJC"
      },
      "outputs": [],
      "source": [
        "a = np.array([[1, 2, 3], [4, 5, 6], [7, 8, 9]])"
      ]
    },
    {
      "cell_type": "code",
      "execution_count": null,
      "metadata": {
        "id": "KAI2teBkXfJC"
      },
      "outputs": [],
      "source": [
        "a[0:2, 1:3]"
      ]
    },
    {
      "cell_type": "code",
      "execution_count": null,
      "metadata": {
        "id": "d6VYlVG0XfJD"
      },
      "outputs": [],
      "source": [
        "arr1 = np.array([[1, 2], [3, 4], [5, 6]])"
      ]
    },
    {
      "cell_type": "code",
      "execution_count": null,
      "metadata": {
        "id": "h8pqwL7HXfJD"
      },
      "outputs": [],
      "source": [
        "arr2 = np.array([[1, 1], [1, 1], [1, 1]])"
      ]
    },
    {
      "cell_type": "code",
      "execution_count": null,
      "metadata": {
        "id": "LHjBwbjIXfJD"
      },
      "outputs": [],
      "source": [
        "result = arr1 + arr2"
      ]
    },
    {
      "cell_type": "code",
      "execution_count": null,
      "metadata": {
        "id": "2Yec9eICXfJD"
      },
      "outputs": [],
      "source": [
        "result"
      ]
    },
    {
      "cell_type": "code",
      "execution_count": null,
      "metadata": {
        "id": "GzPp3pkVXfJD"
      },
      "outputs": [],
      "source": [
        "miles = np.array([1, 2, 3])"
      ]
    },
    {
      "cell_type": "code",
      "execution_count": null,
      "metadata": {
        "id": "DpToqVyqXfJD"
      },
      "outputs": [],
      "source": [
        "result = miles * 1.6"
      ]
    },
    {
      "cell_type": "code",
      "execution_count": null,
      "metadata": {
        "id": "n9NtqqaCXfJE"
      },
      "outputs": [],
      "source": [
        "result"
      ]
    },
    {
      "cell_type": "code",
      "execution_count": null,
      "metadata": {
        "id": "cCAcnCVJXfJE"
      },
      "outputs": [],
      "source": [
        "arr1 = np.array([[1, 2], [3, 4], [5, 6]])"
      ]
    },
    {
      "cell_type": "code",
      "execution_count": null,
      "metadata": {
        "id": "nARP3-zaXfJE"
      },
      "outputs": [],
      "source": [
        "arr2 = np.array([[2, 2], [2, 2], [2, 2]])"
      ]
    },
    {
      "cell_type": "code",
      "execution_count": null,
      "metadata": {
        "id": "sUmEjofFXfJE"
      },
      "outputs": [],
      "source": [
        "result = arr1 * arr2"
      ]
    },
    {
      "cell_type": "code",
      "execution_count": null,
      "metadata": {
        "id": "2zU9A-5CXfJE"
      },
      "outputs": [],
      "source": [
        "result"
      ]
    },
    {
      "cell_type": "code",
      "execution_count": null,
      "metadata": {
        "id": "aruU_91YXfJF"
      },
      "outputs": [],
      "source": [
        "arr1 = np.array([[1, 2, 3], [4, 5, 6], [7, 8, 9]])"
      ]
    },
    {
      "cell_type": "code",
      "execution_count": null,
      "metadata": {
        "id": "vvY8Bzm3XfJF"
      },
      "outputs": [],
      "source": [
        "arr2 = np.array([[2, 2], [2, 2], [2, 2]])"
      ]
    },
    {
      "cell_type": "code",
      "execution_count": null,
      "metadata": {
        "id": "3x1778cFXfJF"
      },
      "outputs": [],
      "source": [
        "result = arr1 @ arr2"
      ]
    },
    {
      "cell_type": "code",
      "execution_count": null,
      "metadata": {
        "id": "tVHGKnU1XfJF"
      },
      "outputs": [],
      "source": [
        "result"
      ]
    },
    {
      "cell_type": "code",
      "execution_count": null,
      "metadata": {
        "id": "iY2KPTo3XfJF"
      },
      "outputs": [],
      "source": [
        "A = np.array([0, 1, 2, 3])\n"
      ]
    },
    {
      "cell_type": "code",
      "execution_count": null,
      "metadata": {
        "id": "1tHfOuazXfJG"
      },
      "outputs": [],
      "source": [
        "10 * np.sin(A)"
      ]
    },
    {
      "cell_type": "code",
      "execution_count": null,
      "metadata": {
        "id": "TNGeTrXyXfJG"
      },
      "outputs": [],
      "source": [
        "a = np.array([[1, 2, 3], [4, 5, 6], [7, 8, 9]])"
      ]
    },
    {
      "cell_type": "code",
      "execution_count": null,
      "metadata": {
        "id": "GX4AQr3RXfJG"
      },
      "outputs": [],
      "source": [
        "a.sum()"
      ]
    },
    {
      "cell_type": "code",
      "execution_count": null,
      "metadata": {
        "id": "oWT6RoX6XfJG"
      },
      "outputs": [],
      "source": [
        "a.min()"
      ]
    },
    {
      "cell_type": "code",
      "execution_count": null,
      "metadata": {
        "id": "LOwmxqUdXfJG"
      },
      "outputs": [],
      "source": [
        "a.max()"
      ]
    },
    {
      "cell_type": "code",
      "execution_count": null,
      "metadata": {
        "id": "sTGys7OkXfJH"
      },
      "outputs": [],
      "source": [
        "scores = np.array([[99, 93, 60], [98, 82, 93],\n",
        "               [93, 65, 81], [78, 82, 81]])    "
      ]
    },
    {
      "cell_type": "code",
      "execution_count": null,
      "metadata": {
        "id": "aEe3SO_YXfJH"
      },
      "outputs": [],
      "source": [
        "scores.mean(axis=0)"
      ]
    },
    {
      "cell_type": "code",
      "execution_count": null,
      "metadata": {
        "id": "vz3yNSngXfJH"
      },
      "outputs": [],
      "source": [
        "np.random.seed(100)\n"
      ]
    },
    {
      "cell_type": "code",
      "execution_count": null,
      "metadata": {
        "id": "nHTd6aAXXfJH"
      },
      "outputs": [],
      "source": [
        "np.random.rand(5)\n"
      ]
    },
    {
      "cell_type": "code",
      "execution_count": null,
      "metadata": {
        "id": "95sCGEDIXfJI"
      },
      "outputs": [],
      "source": [
        "np.random.rand(5, 3)\n"
      ]
    },
    {
      "cell_type": "code",
      "execution_count": null,
      "metadata": {
        "id": "RnSNxooeXfJI"
      },
      "outputs": [],
      "source": [
        "np.random.randn(5)"
      ]
    },
    {
      "cell_type": "code",
      "execution_count": null,
      "metadata": {
        "id": "K_yuSGoDXfJI"
      },
      "outputs": [],
      "source": [
        "np.random.randn(5, 4)"
      ]
    },
    {
      "cell_type": "code",
      "execution_count": null,
      "metadata": {
        "id": "zO_XiK1cXfJJ"
      },
      "outputs": [],
      "source": [
        "m, sigma = 10, 2"
      ]
    },
    {
      "cell_type": "code",
      "execution_count": null,
      "metadata": {
        "id": "FPh2Is4LXfJJ"
      },
      "outputs": [],
      "source": [
        "m + sigma*np.random.randn(5)"
      ]
    },
    {
      "cell_type": "code",
      "execution_count": null,
      "metadata": {
        "id": "nt4ZlA7NXfJJ"
      },
      "outputs": [],
      "source": [
        "mu, sigma = 0, 0.1 \t# 평균과 표준 편차"
      ]
    },
    {
      "cell_type": "code",
      "execution_count": null,
      "metadata": {
        "id": "1gqr2YrqXfJJ"
      },
      "outputs": [],
      "source": [
        "np.random.normal(mu, sigma, 5)"
      ]
    },
    {
      "cell_type": "code",
      "execution_count": null,
      "metadata": {
        "id": "v-3ueRMIXfJK"
      },
      "outputs": [],
      "source": [
        "a = np.array([11, 11, 12, 13, 14, 15, 16, 17, 12, 13, 11, 14, 18, 19, 20])"
      ]
    },
    {
      "cell_type": "code",
      "execution_count": null,
      "metadata": {
        "id": "HfhWLz1cXfJK"
      },
      "outputs": [],
      "source": [
        "unique_values = np.unique(a)"
      ]
    },
    {
      "cell_type": "code",
      "execution_count": null,
      "metadata": {
        "id": "W2aJEF8rXfJK"
      },
      "outputs": [],
      "source": [
        "unique_values"
      ]
    },
    {
      "cell_type": "code",
      "execution_count": null,
      "metadata": {
        "id": "c-knxEPpXfJK"
      },
      "outputs": [],
      "source": [
        "arr = np.array([[1, 2], [3, 4], [5, 6]])\n",
        "print(arr.T)"
      ]
    },
    {
      "cell_type": "code",
      "execution_count": null,
      "metadata": {
        "id": "oQ9qlZWEXfJK"
      },
      "outputs": [],
      "source": [
        "x = np.array([[1, 2, 3, 4], [5, 6, 7, 8], [9, 10, 11, 12]])"
      ]
    },
    {
      "cell_type": "code",
      "execution_count": null,
      "metadata": {
        "id": "7kIYa_bQXfJK"
      },
      "outputs": [],
      "source": [
        "x.flatten()"
      ]
    },
    {
      "cell_type": "markdown",
      "source": [
        "##PANDAS"
      ],
      "metadata": {
        "id": "-Poknh-78yPL"
      }
    },
    {
      "cell_type": "code",
      "execution_count": null,
      "metadata": {
        "id": "5L_UFYSBXfJK"
      },
      "outputs": [],
      "source": [
        "import numpy as np\n",
        "import pandas as pd\n",
        "\n",
        "x = pd.read_csv('countries.csv', header=0).values\n",
        "print(x)"
      ]
    },
    {
      "cell_type": "markdown",
      "source": [
        "##Graph Using Matpoltlib\n",
        "- line plot\n",
        "- bar plot\n",
        "- histogram\n",
        "#시그모이드 함수와 도함수 그래프"
      ],
      "metadata": {
        "id": "gTWK2tvJ818r"
      }
    },
    {
      "cell_type": "code",
      "execution_count": null,
      "metadata": {
        "id": "5udyKXI6XfJK"
      },
      "outputs": [],
      "source": [
        "import matplotlib.pyplot as plt\n",
        "%matplotlib inline\n",
        "\n",
        "X = [ \"Mon\", \"Tue\", \"Wed\", \"Thur\", \"Fri\",  \"Sat\", \"Sun\" ] \n",
        "Y1 = [15.6, 14.2, 16.3, 18.2, 17.1, 20.2, 22.4]\n",
        "Y2 = [20.1, 23.1, 23.8, 25.9, 23.4, 25.1, 26.3]\n",
        "\n",
        "plt.plot(X, Y1, label=\"Seoul\")\t\t# 분리시켜서 그려도 됨\n",
        "plt.plot(X, Y2, label=\"Busan\")\t\t# 분리시켜서 그려도 됨\n",
        "plt.xlabel(\"day\")\n",
        "plt.ylabel(\"temperature\")\n",
        "plt.legend(loc=\"upper left\")\n",
        "plt.title(\"Temperatures of Cities\")\n",
        "plt.show()"
      ]
    },
    {
      "cell_type": "code",
      "execution_count": null,
      "metadata": {
        "id": "b2MNH_DGXfJL"
      },
      "outputs": [],
      "source": [
        "import matplotlib.pyplot as plt\n",
        "%matplotlib inline\n",
        "\n",
        "X = [ \"Mon\", \"Tue\", \"Wed\", \"Thur\", \"Fri\",  \"Sat\", \"Sun\" ] \n",
        "plt.plot(X, [15.6, 14.2, 16.3, 18.2, 17.1, 20.2, 22.4], \"sm\")\n",
        "plt.show()"
      ]
    },
    {
      "cell_type": "code",
      "execution_count": null,
      "metadata": {
        "id": "gMERN7dvXfJL"
      },
      "outputs": [],
      "source": [
        "import matplotlib.pyplot as plt\n",
        "%matplotlib inline\n",
        "\n",
        "X = [ \"Mon\", \"Tue\", \"Wed\", \"Thur\", \"Fri\",  \"Sat\", \"Sun\" ] \n",
        "Y = [15.6, 14.2, 16.3, 18.2, 17.1, 20.2, 22.4]\n",
        "plt.bar(X, Y)\n",
        "plt.show()\n"
      ]
    },
    {
      "cell_type": "code",
      "execution_count": null,
      "metadata": {
        "id": "foPeAAWwXfJL"
      },
      "outputs": [],
      "source": [
        "import matplotlib.pyplot as plt\n",
        "import numpy as np\n",
        "\n",
        "numbers = np.random.normal(size=10000)\n",
        "\n",
        "plt.hist(numbers)\n",
        "plt.xlabel(\"value\")\n",
        "plt.ylabel(\"freq\")\n",
        "plt.show()"
      ]
    },
    {
      "cell_type": "code",
      "execution_count": null,
      "metadata": {
        "id": "yNU-o21IXfJL"
      },
      "outputs": [],
      "source": [
        "import matplotlib.pyplot as plt\n",
        "import numpy as np\n",
        "X = np.arange(0, 10)\n",
        "Y = X**2\n",
        "plt.plot(X, Y)\n",
        "plt.show()"
      ]
    },
    {
      "cell_type": "code",
      "execution_count": null,
      "metadata": {
        "id": "9rEZj9RPXfJL"
      },
      "outputs": [],
      "source": [
        "X = np.arange(0, 10)\n",
        "Y1 = np.ones(10)\n",
        "Y2 = X \n",
        "Y3 = X**2 \n",
        "plt.plot(X, Y1, X, Y2, X, Y3)\n",
        "plt.show()"
      ]
    },
    {
      "cell_type": "code",
      "execution_count": null,
      "metadata": {
        "id": "yMju-Kq6XfJL"
      },
      "outputs": [],
      "source": [
        "import matplotlib.pyplot as plt \n",
        "import numpy as np \n",
        "import math \n",
        "  \n",
        "X = np.linspace(-10, 10, 100) \n",
        "Y = 1/(1 + np.exp(-X)) \n",
        "  \n",
        "plt.plot(X, Y) \n",
        "plt.xlabel(\"x\") \n",
        "plt.ylabel(\"Sigmoid(X)\") \n",
        "plt.show() "
      ]
    },
    {
      "cell_type": "code",
      "execution_count": null,
      "metadata": {
        "id": "yEBjjNTWXfJM"
      },
      "outputs": [],
      "source": [
        "import matplotlib.pyplot as plt\n",
        "import numpy as np\n",
        "\n",
        "def sigmoid(x):\n",
        "    s=1/(1+np.exp(-x))\n",
        "    ds=s*(1-s)  \t\t# 시그모이드 함수 1차 미분 함수\n",
        "    return s,ds\n",
        "\n",
        "X = np.linspace(-10, 10, 100) \n",
        "Y1, Y2 = sigmoid(X)\n",
        "  \n",
        "plt.plot(X, Y1, X, Y2) \n",
        "plt.xlabel(\"x\") \n",
        "plt.ylabel(\"Sigmoid(X), Sigmoid'(X)\") \n",
        "plt.show() "
      ]
    },
    {
      "cell_type": "code",
      "execution_count": null,
      "metadata": {
        "id": "3hodJXtTXfJM"
      },
      "outputs": [],
      "source": []
    }
  ],
  "metadata": {
    "kernelspec": {
      "display_name": "Python 3",
      "language": "python",
      "name": "python3"
    },
    "language_info": {
      "codemirror_mode": {
        "name": "ipython",
        "version": 3
      },
      "file_extension": ".py",
      "mimetype": "text/x-python",
      "name": "python",
      "nbconvert_exporter": "python",
      "pygments_lexer": "ipython3",
      "version": "3.8.5"
    },
    "colab": {
      "name": "numpy.ipynb",
      "provenance": [],
      "collapsed_sections": [],
      "include_colab_link": true
    }
  },
  "nbformat": 4,
  "nbformat_minor": 0
}